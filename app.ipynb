{
 "cells": [
  {
   "cell_type": "markdown",
   "id": "9cf5e091",
   "metadata": {},
   "source": [
    "Classical ML with Scikit-learn (Iris Dataset)"
   ]
  },
  {
   "cell_type": "code",
   "execution_count": null,
   "id": "06733e27",
   "metadata": {},
   "outputs": [
    {
     "name": "stdout",
     "output_type": "stream",
     "text": [
      "--- Task 1: Classical ML with Scikit-learn (Iris) ---\n",
      "Dataset loaded: 150 samples, 4 features.\n",
      "No missing values found.\n",
      "Train set size: 105, Test set size: 45\n",
      "\n",
      "Training Decision Tree Classifier...\n",
      "Training complete.\n",
      "\n",
      "Model Accuracy: 0.9333\n",
      "\n",
      "--- Classification Report ---\n",
      "              precision    recall  f1-score   support\n",
      "\n",
      "      setosa       1.00      1.00      1.00        15\n",
      "  versicolor       1.00      0.80      0.89        15\n",
      "   virginica       0.83      1.00      0.91        15\n",
      "\n",
      "    accuracy                           0.93        45\n",
      "   macro avg       0.94      0.93      0.93        45\n",
      "weighted avg       0.94      0.93      0.93        45\n",
      "\n"
     ]
    }
   ],
   "source": [
    "import numpy as np\n",
    "from sklearn.datasets import load_iris\n",
    "from sklearn.model_selection import train_test_split\n",
    "from sklearn.tree import DecisionTreeClassifier\n",
    "from sklearn.metrics import classification_report, accuracy_score\n",
    "\n",
    "# --- 1. Load the Dataset ---\n",
    "print(\"--- Classical ML with Scikit-learn (Iris) ---\")\n",
    "iris = load_iris()\n",
    "X = iris.data\n",
    "y = iris.target\n",
    "target_names = iris.target_names\n",
    "\n",
    "print(f\"Dataset loaded: {len(X)} samples, {X.shape[1]} features.\")\n",
    "\n",
    "# --- 2. Preprocess the Data (Handling Missing Values and Labels) ---\n",
    "# Check for missing values (Iris is a clean dataset, so this is for demonstration)\n",
    "if np.isnan(X).sum() > 0:\n",
    "    print(\"Warning: Missing values found and imputed with the mean.\")\n",
    "    # A simple imputation strategy (if there were missing values)\n",
    "    from sklearn.impute import SimpleImputer\n",
    "    imputer = SimpleImputer(strategy='mean')\n",
    "    X = imputer.fit_transform(X)\n",
    "else:\n",
    "    print(\"No missing values found.\")\n",
    "\n",
    "# The target 'y' is already label encoded (0, 1, 2), so no further encoding is needed.\n",
    "# Species: 0=setosa, 1=versicolor, 2=virginica\n",
    "\n",
    "# Split the data into training and testing sets\n",
    "X_train, X_test, y_train, y_test = train_test_split(\n",
    "    X, y, test_size=0.3, random_state=42, stratify=y\n",
    ")\n",
    "print(f\"Train set size: {len(X_train)}, Test set size: {len(X_test)}\")\n",
    "\n",
    "# --- 3. Train a Decision Tree Classifier ---\n",
    "print(\"\\nTraining Decision Tree Classifier...\")\n",
    "# Initialize the model\n",
    "dt_classifier = DecisionTreeClassifier(random_state=42)\n",
    "\n",
    "# Train the model\n",
    "dt_classifier.fit(X_train, y_train)\n",
    "print(\"Training complete.\")\n",
    "\n",
    "# --- 4. Evaluate the Model ---\n",
    "# Make predictions on the test set\n",
    "y_pred = dt_classifier.predict(X_test)\n",
    "\n",
    "# Calculate accuracy\n",
    "accuracy = accuracy_score(y_test, y_pred)\n",
    "print(f\"\\nModel Accuracy: {accuracy:.4f}\")\n",
    "\n",
    "# Generate a detailed classification report (Precision, Recall, F1-Score)\n",
    "print(\"\\n--- Classification Report ---\")\n",
    "report = classification_report(y_test, y_pred, target_names=target_names)\n",
    "print(report)\n",
    "\n",
    "# Explanation:\n",
    "# - Precision: The ability of the classifier not to label as positive a sample that is negative.\n",
    "# - Recall: The ability of the classifier to find all the positive samples.\n",
    "# - F1-score: The harmonic mean of precision and recall.\n",
    "\n",
    "# The report provides these metrics for each of the three species (0, 1, 2)."
   ]
  },
  {
   "cell_type": "markdown",
   "id": "e4e6e97d",
   "metadata": {},
   "source": [
    "Deep Learning with TensorFlow/Keras (MNIST)"
   ]
  },
  {
   "cell_type": "code",
   "execution_count": null,
   "id": "49158386",
   "metadata": {},
   "outputs": [
    {
     "name": "stdout",
     "output_type": "stream",
     "text": [
      "--- Task 2: Deep Learning with TensorFlow/Keras (MNIST) ---\n",
      "Downloading data from https://storage.googleapis.com/tensorflow/tf-keras-datasets/mnist.npz\n",
      "\u001b[1m11490434/11490434\u001b[0m \u001b[32m━━━━━━━━━━━━━━━━━━━━\u001b[0m\u001b[37m\u001b[0m \u001b[1m14s\u001b[0m 1us/step\n",
      "Data shapes: Train X (60000, 28, 28, 1), Test X (10000, 28, 28, 1)\n",
      "\n",
      "Building CNN Model...\n"
     ]
    },
    {
     "name": "stderr",
     "output_type": "stream",
     "text": [
      "d:\\Self Dev\\Power Learn\\Assignments\\Specialisation\\AI Machine Learning\\.venv\\Lib\\site-packages\\keras\\src\\layers\\convolutional\\base_conv.py:113: UserWarning: Do not pass an `input_shape`/`input_dim` argument to a layer. When using Sequential models, prefer using an `Input(shape)` object as the first layer in the model instead.\n",
      "  super().__init__(activity_regularizer=activity_regularizer, **kwargs)\n"
     ]
    },
    {
     "data": {
      "text/html": [
       "<pre style=\"white-space:pre;overflow-x:auto;line-height:normal;font-family:Menlo,'DejaVu Sans Mono',consolas,'Courier New',monospace\"><span style=\"font-weight: bold\">Model: \"sequential\"</span>\n",
       "</pre>\n"
      ],
      "text/plain": [
       "\u001b[1mModel: \"sequential\"\u001b[0m\n"
      ]
     },
     "metadata": {},
     "output_type": "display_data"
    },
    {
     "data": {
      "text/html": [
       "<pre style=\"white-space:pre;overflow-x:auto;line-height:normal;font-family:Menlo,'DejaVu Sans Mono',consolas,'Courier New',monospace\">┏━━━━━━━━━━━━━━━━━━━━━━━━━━━━━━━━━┳━━━━━━━━━━━━━━━━━━━━━━━━┳━━━━━━━━━━━━━━━┓\n",
       "┃<span style=\"font-weight: bold\"> Layer (type)                    </span>┃<span style=\"font-weight: bold\"> Output Shape           </span>┃<span style=\"font-weight: bold\">       Param # </span>┃\n",
       "┡━━━━━━━━━━━━━━━━━━━━━━━━━━━━━━━━━╇━━━━━━━━━━━━━━━━━━━━━━━━╇━━━━━━━━━━━━━━━┩\n",
       "│ conv2d (<span style=\"color: #0087ff; text-decoration-color: #0087ff\">Conv2D</span>)                 │ (<span style=\"color: #00d7ff; text-decoration-color: #00d7ff\">None</span>, <span style=\"color: #00af00; text-decoration-color: #00af00\">26</span>, <span style=\"color: #00af00; text-decoration-color: #00af00\">26</span>, <span style=\"color: #00af00; text-decoration-color: #00af00\">32</span>)     │           <span style=\"color: #00af00; text-decoration-color: #00af00\">320</span> │\n",
       "├─────────────────────────────────┼────────────────────────┼───────────────┤\n",
       "│ max_pooling2d (<span style=\"color: #0087ff; text-decoration-color: #0087ff\">MaxPooling2D</span>)    │ (<span style=\"color: #00d7ff; text-decoration-color: #00d7ff\">None</span>, <span style=\"color: #00af00; text-decoration-color: #00af00\">13</span>, <span style=\"color: #00af00; text-decoration-color: #00af00\">13</span>, <span style=\"color: #00af00; text-decoration-color: #00af00\">32</span>)     │             <span style=\"color: #00af00; text-decoration-color: #00af00\">0</span> │\n",
       "├─────────────────────────────────┼────────────────────────┼───────────────┤\n",
       "│ conv2d_1 (<span style=\"color: #0087ff; text-decoration-color: #0087ff\">Conv2D</span>)               │ (<span style=\"color: #00d7ff; text-decoration-color: #00d7ff\">None</span>, <span style=\"color: #00af00; text-decoration-color: #00af00\">11</span>, <span style=\"color: #00af00; text-decoration-color: #00af00\">11</span>, <span style=\"color: #00af00; text-decoration-color: #00af00\">64</span>)     │        <span style=\"color: #00af00; text-decoration-color: #00af00\">18,496</span> │\n",
       "├─────────────────────────────────┼────────────────────────┼───────────────┤\n",
       "│ max_pooling2d_1 (<span style=\"color: #0087ff; text-decoration-color: #0087ff\">MaxPooling2D</span>)  │ (<span style=\"color: #00d7ff; text-decoration-color: #00d7ff\">None</span>, <span style=\"color: #00af00; text-decoration-color: #00af00\">5</span>, <span style=\"color: #00af00; text-decoration-color: #00af00\">5</span>, <span style=\"color: #00af00; text-decoration-color: #00af00\">64</span>)       │             <span style=\"color: #00af00; text-decoration-color: #00af00\">0</span> │\n",
       "├─────────────────────────────────┼────────────────────────┼───────────────┤\n",
       "│ flatten (<span style=\"color: #0087ff; text-decoration-color: #0087ff\">Flatten</span>)               │ (<span style=\"color: #00d7ff; text-decoration-color: #00d7ff\">None</span>, <span style=\"color: #00af00; text-decoration-color: #00af00\">1600</span>)           │             <span style=\"color: #00af00; text-decoration-color: #00af00\">0</span> │\n",
       "├─────────────────────────────────┼────────────────────────┼───────────────┤\n",
       "│ dense (<span style=\"color: #0087ff; text-decoration-color: #0087ff\">Dense</span>)                   │ (<span style=\"color: #00d7ff; text-decoration-color: #00d7ff\">None</span>, <span style=\"color: #00af00; text-decoration-color: #00af00\">10</span>)             │        <span style=\"color: #00af00; text-decoration-color: #00af00\">16,010</span> │\n",
       "└─────────────────────────────────┴────────────────────────┴───────────────┘\n",
       "</pre>\n"
      ],
      "text/plain": [
       "┏━━━━━━━━━━━━━━━━━━━━━━━━━━━━━━━━━┳━━━━━━━━━━━━━━━━━━━━━━━━┳━━━━━━━━━━━━━━━┓\n",
       "┃\u001b[1m \u001b[0m\u001b[1mLayer (type)                   \u001b[0m\u001b[1m \u001b[0m┃\u001b[1m \u001b[0m\u001b[1mOutput Shape          \u001b[0m\u001b[1m \u001b[0m┃\u001b[1m \u001b[0m\u001b[1m      Param #\u001b[0m\u001b[1m \u001b[0m┃\n",
       "┡━━━━━━━━━━━━━━━━━━━━━━━━━━━━━━━━━╇━━━━━━━━━━━━━━━━━━━━━━━━╇━━━━━━━━━━━━━━━┩\n",
       "│ conv2d (\u001b[38;5;33mConv2D\u001b[0m)                 │ (\u001b[38;5;45mNone\u001b[0m, \u001b[38;5;34m26\u001b[0m, \u001b[38;5;34m26\u001b[0m, \u001b[38;5;34m32\u001b[0m)     │           \u001b[38;5;34m320\u001b[0m │\n",
       "├─────────────────────────────────┼────────────────────────┼───────────────┤\n",
       "│ max_pooling2d (\u001b[38;5;33mMaxPooling2D\u001b[0m)    │ (\u001b[38;5;45mNone\u001b[0m, \u001b[38;5;34m13\u001b[0m, \u001b[38;5;34m13\u001b[0m, \u001b[38;5;34m32\u001b[0m)     │             \u001b[38;5;34m0\u001b[0m │\n",
       "├─────────────────────────────────┼────────────────────────┼───────────────┤\n",
       "│ conv2d_1 (\u001b[38;5;33mConv2D\u001b[0m)               │ (\u001b[38;5;45mNone\u001b[0m, \u001b[38;5;34m11\u001b[0m, \u001b[38;5;34m11\u001b[0m, \u001b[38;5;34m64\u001b[0m)     │        \u001b[38;5;34m18,496\u001b[0m │\n",
       "├─────────────────────────────────┼────────────────────────┼───────────────┤\n",
       "│ max_pooling2d_1 (\u001b[38;5;33mMaxPooling2D\u001b[0m)  │ (\u001b[38;5;45mNone\u001b[0m, \u001b[38;5;34m5\u001b[0m, \u001b[38;5;34m5\u001b[0m, \u001b[38;5;34m64\u001b[0m)       │             \u001b[38;5;34m0\u001b[0m │\n",
       "├─────────────────────────────────┼────────────────────────┼───────────────┤\n",
       "│ flatten (\u001b[38;5;33mFlatten\u001b[0m)               │ (\u001b[38;5;45mNone\u001b[0m, \u001b[38;5;34m1600\u001b[0m)           │             \u001b[38;5;34m0\u001b[0m │\n",
       "├─────────────────────────────────┼────────────────────────┼───────────────┤\n",
       "│ dense (\u001b[38;5;33mDense\u001b[0m)                   │ (\u001b[38;5;45mNone\u001b[0m, \u001b[38;5;34m10\u001b[0m)             │        \u001b[38;5;34m16,010\u001b[0m │\n",
       "└─────────────────────────────────┴────────────────────────┴───────────────┘\n"
      ]
     },
     "metadata": {},
     "output_type": "display_data"
    },
    {
     "data": {
      "text/html": [
       "<pre style=\"white-space:pre;overflow-x:auto;line-height:normal;font-family:Menlo,'DejaVu Sans Mono',consolas,'Courier New',monospace\"><span style=\"font-weight: bold\"> Total params: </span><span style=\"color: #00af00; text-decoration-color: #00af00\">34,826</span> (136.04 KB)\n",
       "</pre>\n"
      ],
      "text/plain": [
       "\u001b[1m Total params: \u001b[0m\u001b[38;5;34m34,826\u001b[0m (136.04 KB)\n"
      ]
     },
     "metadata": {},
     "output_type": "display_data"
    },
    {
     "data": {
      "text/html": [
       "<pre style=\"white-space:pre;overflow-x:auto;line-height:normal;font-family:Menlo,'DejaVu Sans Mono',consolas,'Courier New',monospace\"><span style=\"font-weight: bold\"> Trainable params: </span><span style=\"color: #00af00; text-decoration-color: #00af00\">34,826</span> (136.04 KB)\n",
       "</pre>\n"
      ],
      "text/plain": [
       "\u001b[1m Trainable params: \u001b[0m\u001b[38;5;34m34,826\u001b[0m (136.04 KB)\n"
      ]
     },
     "metadata": {},
     "output_type": "display_data"
    },
    {
     "data": {
      "text/html": [
       "<pre style=\"white-space:pre;overflow-x:auto;line-height:normal;font-family:Menlo,'DejaVu Sans Mono',consolas,'Courier New',monospace\"><span style=\"font-weight: bold\"> Non-trainable params: </span><span style=\"color: #00af00; text-decoration-color: #00af00\">0</span> (0.00 B)\n",
       "</pre>\n"
      ],
      "text/plain": [
       "\u001b[1m Non-trainable params: \u001b[0m\u001b[38;5;34m0\u001b[0m (0.00 B)\n"
      ]
     },
     "metadata": {},
     "output_type": "display_data"
    },
    {
     "name": "stdout",
     "output_type": "stream",
     "text": [
      "\n",
      "Training the model (this may take a few minutes)...\n",
      "Epoch 1/5\n",
      "\u001b[1m1688/1688\u001b[0m \u001b[32m━━━━━━━━━━━━━━━━━━━━\u001b[0m\u001b[37m\u001b[0m \u001b[1m28s\u001b[0m 15ms/step - accuracy: 0.9495 - loss: 0.1679 - val_accuracy: 0.9803 - val_loss: 0.0665\n",
      "Epoch 2/5\n",
      "\u001b[1m1688/1688\u001b[0m \u001b[32m━━━━━━━━━━━━━━━━━━━━\u001b[0m\u001b[37m\u001b[0m \u001b[1m34s\u001b[0m 20ms/step - accuracy: 0.9823 - loss: 0.0569 - val_accuracy: 0.9873 - val_loss: 0.0484\n",
      "Epoch 3/5\n",
      "\u001b[1m1688/1688\u001b[0m \u001b[32m━━━━━━━━━━━━━━━━━━━━\u001b[0m\u001b[37m\u001b[0m \u001b[1m42s\u001b[0m 25ms/step - accuracy: 0.9872 - loss: 0.0410 - val_accuracy: 0.9890 - val_loss: 0.0409\n",
      "Epoch 4/5\n",
      "\u001b[1m1688/1688\u001b[0m \u001b[32m━━━━━━━━━━━━━━━━━━━━\u001b[0m\u001b[37m\u001b[0m \u001b[1m39s\u001b[0m 23ms/step - accuracy: 0.9896 - loss: 0.0324 - val_accuracy: 0.9897 - val_loss: 0.0428\n",
      "Epoch 5/5\n",
      "\u001b[1m1688/1688\u001b[0m \u001b[32m━━━━━━━━━━━━━━━━━━━━\u001b[0m\u001b[37m\u001b[0m \u001b[1m35s\u001b[0m 21ms/step - accuracy: 0.9921 - loss: 0.0246 - val_accuracy: 0.9887 - val_loss: 0.0419\n",
      "Training complete.\n",
      "\n",
      "Test Accuracy: 98.96% (Goal > 95%)\n",
      "\u001b[1m1/1\u001b[0m \u001b[32m━━━━━━━━━━━━━━━━━━━━\u001b[0m\u001b[37m\u001b[0m \u001b[1m0s\u001b[0m 282ms/step\n"
     ]
    },
    {
     "data": {
      "image/png": "[encoded data removed]",
      "text/plain": [
       "<Figure size 1200x400 with 5 Axes>"
      ]
     },
     "metadata": {},
     "output_type": "display_data"
    }
   ],
   "source": [
    "import numpy as np\n",
    "import matplotlib.pyplot as plt\n",
    "import tensorflow as tf\n",
    "from tensorflow.keras.datasets import mnist\n",
    "from tensorflow.keras.models import Sequential\n",
    "from tensorflow.keras.layers import Conv2D, MaxPooling2D, Flatten, Dense\n",
    "\n",
    "# --- 1. Load and Preprocess the Dataset ---\n",
    "print(\"--- Deep Learning with TensorFlow/Keras (MNIST) ---\")\n",
    "(X_train, y_train), (X_test, y_test) = mnist.load_data()\n",
    "\n",
    "# Normalize images to a 0-1 range\n",
    "X_train = X_train.astype('float32') / 255.0\n",
    "X_test = X_test.astype('float32') / 255.0\n",
    "\n",
    "# CNNs expect an extra dimension for the channel (grayscale = 1)\n",
    "# Original shape: (60000, 28, 28) -> New shape: (60000, 28, 28, 1)\n",
    "X_train = np.expand_dims(X_train, -1)\n",
    "X_test = np.expand_dims(X_test, -1)\n",
    "\n",
    "# One-hot encode the target labels (0 becomes [1,0,0,...,0], 1 becomes [0,1,0,...], etc.)\n",
    "num_classes = 10\n",
    "y_train_encoded = tf.keras.utils.to_categorical(y_train, num_classes)\n",
    "y_test_encoded = tf.keras.utils.to_categorical(y_test, num_classes)\n",
    "\n",
    "print(f\"Data shapes: Train X {X_train.shape}, Test X {X_test.shape}\")\n",
    "\n",
    "# --- 2. Build the CNN Model ---\n",
    "print(\"\\nBuilding CNN Model...\")\n",
    "\n",
    "model = Sequential([\n",
    "    # First convolutional block: 32 filters, 3x3 kernel, ReLU activation\n",
    "    Conv2D(32, (3, 3), activation='relu', input_shape=(28, 28, 1)),\n",
    "    MaxPooling2D((2, 2)), # Reduce spatial dimensions\n",
    "\n",
    "    # Second convolutional block: 64 filters, 3x3 kernel\n",
    "    Conv2D(64, (3, 3), activation='relu'),\n",
    "    MaxPooling2D((2, 2)),\n",
    "\n",
    "    Flatten(), # Prepare output for the Dense layer\n",
    "\n",
    "    # Fully connected layer for classification\n",
    "    Dense(num_classes, activation='softmax') # Softmax for multi-class classification\n",
    "])\n",
    "\n",
    "# Compile the model\n",
    "model.compile(optimizer='adam',\n",
    "              loss='categorical_crossentropy',\n",
    "              metrics=['accuracy'])\n",
    "\n",
    "model.summary()\n",
    "\n",
    "# --- 3. Train the Model ---\n",
    "print(\"\\nTraining the model (this may take a few minutes)...\")\n",
    "history = model.fit(X_train, y_train_encoded,\n",
    "                    epochs=5, # 5 epochs is usually enough to hit >95% accuracy\n",
    "                    batch_size=32,\n",
    "                    validation_split=0.1,\n",
    "                    verbose=1)\n",
    "print(\"Training complete.\")\n",
    "\n",
    "# --- 4. Evaluate the Model ---\n",
    "loss, acc = model.evaluate(X_test, y_test_encoded, verbose=0)\n",
    "print(f\"\\nTest Accuracy: {acc * 100:.2f}% (Goal > 95%)\")\n",
    "\n",
    "# --- 5. Visualize Predictions on 5 Sample Images ---\n",
    "# Get predictions for the first 5 images in the test set\n",
    "sample_images = X_test[:5]\n",
    "predictions = model.predict(sample_images)\n",
    "predicted_classes = np.argmax(predictions, axis=1)\n",
    "\n",
    "# Plot the images and their predictions\n",
    "plt.figure(figsize=(12, 4))\n",
    "for i in range(5):\n",
    "    plt.subplot(1, 5, i + 1)\n",
    "    # Remove the channel dimension for plotting\n",
    "    plt.imshow(sample_images[i].reshape(28, 28), cmap='gray')\n",
    "    title_color = 'green' if predicted_classes[i] == y_test[i] else 'red'\n",
    "    plt.title(f\"True: {y_test[i]}\\nPred: {predicted_classes[i]}\", color=title_color)\n",
    "    plt.axis('off')\n",
    "\n",
    "plt.suptitle(\"Model Predictions on 5 Test Samples (Green=Correct, Red=Wrong)\")\n",
    "plt.show()"
   ]
  },
  {
   "cell_type": "markdown",
   "id": "c3e621f9",
   "metadata": {},
   "source": [
    "NLP with spaCy (NER and Sentiment Analysis)"
   ]
  },
  {
   "cell_type": "code",
   "execution_count": 6,
   "id": "64cdd3d6",
   "metadata": {},
   "outputs": [
    {
     "ename": "ModuleNotFoundError",
     "evalue": "No module named 'spacy'",
     "output_type": "error",
     "traceback": [
      "\u001b[31m---------------------------------------------------------------------------\u001b[39m",
      "\u001b[31mModuleNotFoundError\u001b[39m                       Traceback (most recent call last)",
      "\u001b[36mCell\u001b[39m\u001b[36m \u001b[39m\u001b[32mIn[6]\u001b[39m\u001b[32m, line 1\u001b[39m\n\u001b[32m----> \u001b[39m\u001b[32m1\u001b[39m \u001b[38;5;28;01mimport\u001b[39;00m\u001b[38;5;250m \u001b[39m\u001b[34;01mspacy\u001b[39;00m\n\u001b[32m      3\u001b[39m \u001b[38;5;66;03m# --- 1. Setup spaCy and Sample Data ---\u001b[39;00m\n\u001b[32m      4\u001b[39m \u001b[38;5;28mprint\u001b[39m(\u001b[33m\"\u001b[39m\u001b[33m--- NLP with spaCy (NER and Sentiment) ---\u001b[39m\u001b[33m\"\u001b[39m)\n",
      "\u001b[31mModuleNotFoundError\u001b[39m: No module named 'spacy'"
     ]
    }
   ],
   "source": [
    "import spacy\n",
    "\n",
    "# --- 1. Setup spaCy and Sample Data ---\n",
    "print(\"--- NLP with spaCy (NER and Sentiment) ---\")\n",
    "\n",
    "# Load the small English model\n",
    "try:\n",
    "    nlp = spacy.load(\"en_core_web_sm\")\n",
    "    print(\"spaCy model 'en_core_web_sm' loaded successfully.\")\n",
    "except OSError:\n",
    "    print(\"Downloading spaCy model 'en_core_web_sm'...\")\n",
    "    # Instructions to download the model if it's not present\n",
    "    print(\"Please run the following command in your terminal first: python -m spacy download en_core_web_sm\")\n",
    "    exit()\n",
    "\n",
    "# Sample Amazon Product Review text\n",
    "review_text = (\n",
    "    \"I absolutely love my new Apple iPhone 15 Pro Max! \"\n",
    "    \"The camera quality is excellent, and the battery life is truly amazing. \"\n",
    "    \"However, the cost of the Samsung Galaxy S24 Ultra seems better for the features, \"\n",
    "    \"and my last Bose headphones broke after only three months, which was very disappointing.\"\n",
    ")\n",
    "\n",
    "doc = nlp(review_text)\n",
    "\n",
    "# --- 2. Named Entity Recognition (NER) ---\n",
    "print(\"\\n--- Named Entity Recognition (NER) ---\")\n",
    "product_entities = []\n",
    "brand_entities = []\n",
    "\n",
    "# Iterate over all detected entities\n",
    "for ent in doc.ents:\n",
    "    # Entities typically cover product names and brands:\n",
    "    # - PRODUCT: Often used for specific product names (e.g., iPhone 15 Pro Max)\n",
    "    # - ORG: Often used for company/brand names (e.g., Apple, Samsung, Bose)\n",
    "    if ent.label_ == 'PRODUCT':\n",
    "        product_entities.append((ent.text, ent.label_))\n",
    "    elif ent.label_ == 'ORG':\n",
    "        brand_entities.append((ent.text, ent.label_))\n",
    "    \n",
    "    # You can print all detected entities for a full view:\n",
    "    # print(f\"Entity: {ent.text}, Label: {ent.label_}\")\n",
    "\n",
    "print(\"\\nExtracted Product Names:\")\n",
    "for name, label in product_entities:\n",
    "    print(f\"- {name}\")\n",
    "    \n",
    "print(\"\\nExtracted Brand/Company Names:\")\n",
    "for brand, label in brand_entities:\n",
    "    print(f\"- {brand}\")\n",
    "\n",
    "# --- 3. Rule-Based Sentiment Analysis ---\n",
    "print(\"\\n--- Rule-Based Sentiment Analysis ---\")\n",
    "\n",
    "# Define keyword lists for a simple rule-based approach\n",
    "positive_words = [\"love\", \"excellent\", \"amazing\", \"better\", \"great\", \"good\"]\n",
    "negative_words = [\"broke\", \"disappointing\", \"awful\", \"bad\", \"terrible\"]\n",
    "\n",
    "# Tokenize and check for keywords\n",
    "pos_count = 0\n",
    "neg_count = 0\n",
    "\n",
    "for token in doc:\n",
    "    # Convert token text to lowercase for case-insensitive matching\n",
    "    word = token.text.lower()\n",
    "    if word in positive_words:\n",
    "        pos_count += 1\n",
    "    elif word in negative_words:\n",
    "        neg_count += 1\n",
    "\n",
    "print(f\"Positive keyword count: {pos_count}\")\n",
    "print(f\"Negative keyword count: {neg_count}\")\n",
    "\n",
    "# Determine overall sentiment\n",
    "if pos_count > neg_count:\n",
    "    sentiment = \"Positive\"\n",
    "elif neg_count > pos_count:\n",
    "    sentiment = \"Negative\"\n",
    "else:\n",
    "    sentiment = \"Neutral/Mixed\"\n",
    "\n",
    "print(f\"\\nOverall Review Sentiment (Rule-Based): **{sentiment}**\")"
   ]
  }
 ],
 "metadata": {
  "kernelspec": {
   "display_name": "Python (ai-ml-venv)",
   "language": "python",
   "name": "ai-ml-venv"
  },
  "language_info": {
   "codemirror_mode": {
    "name": "ipython",
    "version": 3
   },
   "file_extension": ".py",
   "mimetype": "text/x-python",
   "name": "python",
   "nbconvert_exporter": "python",
   "pygments_lexer": "ipython3",
   "version": "3.12.4"
  }
 },
 "nbformat": 4,
 "nbformat_minor": 5
}
